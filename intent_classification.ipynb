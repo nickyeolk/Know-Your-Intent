{
 "cells": [
  {
   "cell_type": "markdown",
   "metadata": {},
   "source": [
    "# Intent classification"
   ]
  },
  {
   "cell_type": "code",
   "execution_count": 161,
   "metadata": {},
   "outputs": [],
   "source": [
    "import pandas as pd\n",
    "import numpy as np\n",
    "from sklearn.model_selection import train_test_split\n",
    "from sklearn.feature_extraction.text import CountVectorizer\n",
    "from sklearn.feature_extraction.text import TfidfTransformer\n",
    "from sklearn.metrics import confusion_matrix, f1_score, precision_score, recall_score\n",
    "from sklearn.ensemble import RandomForestClassifier, AdaBoostClassifier\n",
    "from sklearn.linear_model import LogisticRegression\n",
    "from sklearn.svm import SVC\n",
    "import spacy"
   ]
  },
  {
   "cell_type": "code",
   "execution_count": 162,
   "metadata": {},
   "outputs": [],
   "source": [
    "nlp = spacy.load('en_core_web_lg')"
   ]
  },
  {
   "cell_type": "code",
   "execution_count": 199,
   "metadata": {},
   "outputs": [],
   "source": [
    "# df_train=pd.read_table('./datasets/KL/AskUbuntu/train.csv', header=None)\n",
    "# df_test=pd.read_table('./datasets/KL/AskUbuntu/test.csv', header=None)\n",
    "\n",
    "df_train=pd.read_table('./datasets/KL/WebApplication/train.csv', header=None)\n",
    "df_test=pd.read_table('./datasets/KL/WebApplication/test.csv', header=None)"
   ]
  },
  {
   "cell_type": "code",
   "execution_count": 200,
   "metadata": {},
   "outputs": [
    {
     "data": {
      "text/plain": [
       "Find Alternative    16\n",
       "Filter Spam         14\n",
       "Delete Account      10\n",
       "Change Password      6\n",
       "Sync Accounts        6\n",
       "None                 4\n",
       "Export Data          3\n",
       "Name: 1, dtype: int64"
      ]
     },
     "execution_count": 200,
     "metadata": {},
     "output_type": "execute_result"
    }
   ],
   "source": [
    "df_train[1].value_counts()\n",
    "df_test[1].value_counts()"
   ]
  },
  {
   "cell_type": "code",
   "execution_count": 201,
   "metadata": {},
   "outputs": [],
   "source": [
    "vectorizer = CountVectorizer(analyzer = \"word\", strip_accents=None, tokenizer = None, \\\n",
    "                             preprocessor = None, stop_words = None, max_features = 5000, ngram_range=(1, 3)) \n",
    "data_features_train = vectorizer.fit_transform(df_train[0])\n",
    "tfidfier = TfidfTransformer()\n",
    "tfidf_train = tfidfier.fit_transform(data_features_train)\n",
    "data_features_test = vectorizer.transform(df_test[0])\n",
    "tfidf_test=tfidfier.transform(data_features_test)"
   ]
  },
  {
   "cell_type": "code",
   "execution_count": 202,
   "metadata": {},
   "outputs": [
    {
     "name": "stderr",
     "output_type": "stream",
     "text": [
      "C:\\Users\\likkhian\\Anaconda3\\envs\\py3env\\lib\\site-packages\\sklearn\\linear_model\\logistic.py:432: FutureWarning: Default solver will be changed to 'lbfgs' in 0.22. Specify a solver to silence this warning.\n",
      "  FutureWarning)\n",
      "C:\\Users\\likkhian\\Anaconda3\\envs\\py3env\\lib\\site-packages\\sklearn\\linear_model\\logistic.py:459: FutureWarning: Default multi_class will be changed to 'auto' in 0.22. Specify the multi_class option to silence this warning.\n",
      "  \"this warning.\", FutureWarning)\n"
     ]
    },
    {
     "data": {
      "text/plain": [
       "LogisticRegression(C=1.0, class_weight=None, dual=False, fit_intercept=True,\n",
       "          intercept_scaling=1, max_iter=100, multi_class='warn',\n",
       "          n_jobs=None, penalty='l2', random_state=None, solver='warn',\n",
       "          tol=0.0001, verbose=0, warm_start=False)"
      ]
     },
     "execution_count": 202,
     "metadata": {},
     "output_type": "execute_result"
    }
   ],
   "source": [
    "cls=LogisticRegression()\n",
    "cls.fit(tfidf_train, df_train[1])"
   ]
  },
  {
   "cell_type": "code",
   "execution_count": 203,
   "metadata": {},
   "outputs": [
    {
     "name": "stdout",
     "output_type": "stream",
     "text": [
      "0.6101694915254238 0.6101694915254238 0.6101694915254238\n"
     ]
    }
   ],
   "source": [
    "print(f1_score(df_test[1], cls.predict(tfidf_test), average='micro'), \n",
    "     precision_score(df_test[1], cls.predict(tfidf_test), average='micro'), \n",
    "     recall_score(df_test[1], cls.predict(tfidf_test), average='micro'))"
   ]
  },
  {
   "cell_type": "code",
   "execution_count": 128,
   "metadata": {},
   "outputs": [
    {
     "ename": "TypeError",
     "evalue": "create_pipe() got an unexpected keyword argument 'exclusive_classes'",
     "output_type": "error",
     "traceback": [
      "\u001b[1;31m---------------------------------------------------------------------------\u001b[0m",
      "\u001b[1;31mTypeError\u001b[0m                                 Traceback (most recent call last)",
      "\u001b[1;32m<ipython-input-128-26f6d54db6c2>\u001b[0m in \u001b[0;36m<module>\u001b[1;34m\u001b[0m\n\u001b[1;32m----> 1\u001b[1;33m \u001b[0mnlp\u001b[0m\u001b[1;33m.\u001b[0m\u001b[0madd_pipe\u001b[0m\u001b[1;33m(\u001b[0m\u001b[0mnlp\u001b[0m\u001b[1;33m.\u001b[0m\u001b[0mcreate_pipe\u001b[0m\u001b[1;33m(\u001b[0m\u001b[1;34m'textcat'\u001b[0m\u001b[1;33m,\u001b[0m \u001b[0mexclusive_classes\u001b[0m\u001b[1;33m=\u001b[0m\u001b[1;32mTrue\u001b[0m\u001b[1;33m)\u001b[0m\u001b[1;33m)\u001b[0m\u001b[1;33m\u001b[0m\u001b[0m\n\u001b[0m",
      "\u001b[1;31mTypeError\u001b[0m: create_pipe() got an unexpected keyword argument 'exclusive_classes'"
     ]
    }
   ],
   "source": [
    "nlp.add_pipe(nlp.create_pipe('textcat', exclusive_classes=True))"
   ]
  },
  {
   "cell_type": "code",
   "execution_count": 129,
   "metadata": {},
   "outputs": [
    {
     "data": {
      "text/plain": [
       "hello"
      ]
     },
     "execution_count": 129,
     "metadata": {},
     "output_type": "execute_result"
    }
   ],
   "source": [
    "nlp('hello', [1])"
   ]
  },
  {
   "cell_type": "code",
   "execution_count": 130,
   "metadata": {},
   "outputs": [
    {
     "data": {
      "text/plain": [
       "0.7933333333333333"
      ]
     },
     "execution_count": 130,
     "metadata": {},
     "output_type": "execute_result"
    }
   ],
   "source": [
    "(0.93+.84+.61)/3"
   ]
  },
  {
   "cell_type": "code",
   "execution_count": null,
   "metadata": {},
   "outputs": [],
   "source": []
  },
  {
   "cell_type": "code",
   "execution_count": 168,
   "metadata": {},
   "outputs": [
    {
     "name": "stderr",
     "output_type": "stream",
     "text": [
      "C:\\Users\\likkhian\\Anaconda3\\envs\\py3env\\lib\\site-packages\\sklearn\\svm\\base.py:196: FutureWarning: The default value of gamma will change from 'auto' to 'scale' in version 0.22 to account better for unscaled features. Set gamma explicitly to 'auto' or 'scale' to avoid this warning.\n",
      "  \"avoid this warning.\", FutureWarning)\n",
      "C:\\Users\\likkhian\\Anaconda3\\envs\\py3env\\lib\\site-packages\\sklearn\\metrics\\classification.py:1143: UndefinedMetricWarning: F-score is ill-defined and being set to 0.0 in labels with no predicted samples.\n",
      "  'precision', 'predicted', average, warn_for)\n"
     ]
    },
    {
     "name": "stdout",
     "output_type": "stream",
     "text": [
      "[0.        0.0754717 0.        0.        0.1875    0.        0.       ] 0.0847457627118644 0.0847457627118644\n"
     ]
    }
   ],
   "source": [
    "cls=SVC()\n",
    "cls.fit(vector_train, df_train[1])\n",
    "print(f1_score(df_test[1], cls.predict(vector_test), average=None), \n",
    "     precision_score(df_test[1], cls.predict(vector_test), average='micro'), \n",
    "     recall_score(df_test[1], cls.predict(vector_test), average='micro'))"
   ]
  },
  {
   "cell_type": "markdown",
   "metadata": {},
   "source": [
    "# Method 2: classification by cosine distance"
   ]
  },
  {
   "cell_type": "code",
   "execution_count": 204,
   "metadata": {},
   "outputs": [],
   "source": [
    "from sklearn.metrics.pairwise import cosine_similarity\n",
    "\n",
    "df_train[2]=df_train.apply(lambda x: nlp(x[0]), axis=1)\n",
    "df_test[2]=df_test.apply(lambda x: nlp(x[0]), axis=1)\n",
    "vector_train=np.empty([len(df_train), 300])\n",
    "for i in range(len(df_train)):\n",
    "    vector_train[i, :]=df_train.iloc[i, 2].vector\n",
    "vector_test=np.empty([len(df_test), 300])\n",
    "for ii in range(len(df_test)):\n",
    "    vector_test[ii, :]=df_test.iloc[ii, 2].vector"
   ]
  },
  {
   "cell_type": "code",
   "execution_count": 205,
   "metadata": {},
   "outputs": [
    {
     "data": {
      "text/html": [
       "<div>\n",
       "<style scoped>\n",
       "    .dataframe tbody tr th:only-of-type {\n",
       "        vertical-align: middle;\n",
       "    }\n",
       "\n",
       "    .dataframe tbody tr th {\n",
       "        vertical-align: top;\n",
       "    }\n",
       "\n",
       "    .dataframe thead th {\n",
       "        text-align: right;\n",
       "    }\n",
       "</style>\n",
       "<table border=\"1\" class=\"dataframe\">\n",
       "  <thead>\n",
       "    <tr style=\"text-align: right;\">\n",
       "      <th></th>\n",
       "      <th>0</th>\n",
       "      <th>1</th>\n",
       "      <th>2</th>\n",
       "    </tr>\n",
       "  </thead>\n",
       "  <tbody>\n",
       "    <tr>\n",
       "      <th>0</th>\n",
       "      <td>How do I download a YouTube video?</td>\n",
       "      <td>Download Video</td>\n",
       "      <td>(How, do, I, download, a, YouTube, video, ?)</td>\n",
       "    </tr>\n",
       "    <tr>\n",
       "      <th>1</th>\n",
       "      <td>How do I change my password on TV Tropes?</td>\n",
       "      <td>Change Password</td>\n",
       "      <td>(How, do, I, change, my, password, on, TV, Tro...</td>\n",
       "    </tr>\n",
       "    <tr>\n",
       "      <th>2</th>\n",
       "      <td>Why can't I change my password and login with ...</td>\n",
       "      <td>Change Password</td>\n",
       "      <td>(Why, ca, n't, I, change, my, password, and, l...</td>\n",
       "    </tr>\n",
       "    <tr>\n",
       "      <th>3</th>\n",
       "      <td>Change subject line in new Gmail compose window</td>\n",
       "      <td>None</td>\n",
       "      <td>(Change, subject, line, in, new, Gmail, compos...</td>\n",
       "    </tr>\n",
       "    <tr>\n",
       "      <th>4</th>\n",
       "      <td>Email Google Form daily?</td>\n",
       "      <td>None</td>\n",
       "      <td>(Email, Google, Form, daily, ?)</td>\n",
       "    </tr>\n",
       "    <tr>\n",
       "      <th>5</th>\n",
       "      <td>How can I export track.scrobble data from last...</td>\n",
       "      <td>Export Data</td>\n",
       "      <td>(How, can, I, export, track.scrobble, data, fr...</td>\n",
       "    </tr>\n",
       "    <tr>\n",
       "      <th>6</th>\n",
       "      <td>How can I backup my wordpress.com hosted blog?</td>\n",
       "      <td>Export Data</td>\n",
       "      <td>(How, can, I, backup, my, wordpress.com, hoste...</td>\n",
       "    </tr>\n",
       "    <tr>\n",
       "      <th>7</th>\n",
       "      <td>How can I sync my Yahoo! Calendar with Google ...</td>\n",
       "      <td>Sync Accounts</td>\n",
       "      <td>(How, can, I, sync, my, Yahoo, !, Calendar, wi...</td>\n",
       "    </tr>\n",
       "    <tr>\n",
       "      <th>8</th>\n",
       "      <td>Google Bookmarks and Chrome Bookmark Sync -- D...</td>\n",
       "      <td>Sync Accounts</td>\n",
       "      <td>(Google, Bookmarks, and, Chrome, Bookmark, Syn...</td>\n",
       "    </tr>\n",
       "    <tr>\n",
       "      <th>9</th>\n",
       "      <td>How do I sync my RunKeeper workout schedule wi...</td>\n",
       "      <td>Sync Accounts</td>\n",
       "      <td>(How, do, I, sync, my, RunKeeper, workout, sch...</td>\n",
       "    </tr>\n",
       "    <tr>\n",
       "      <th>10</th>\n",
       "      <td>Does using Gmail's \"Never send it to Spam\" fil...</td>\n",
       "      <td>Filter Spam</td>\n",
       "      <td>(Does, using, Gmail, 's, \", Never, send, it, t...</td>\n",
       "    </tr>\n",
       "    <tr>\n",
       "      <th>11</th>\n",
       "      <td>Correctly Identifying Spam Messages</td>\n",
       "      <td>Filter Spam</td>\n",
       "      <td>(Correctly, Identifying, Spam, Messages)</td>\n",
       "    </tr>\n",
       "    <tr>\n",
       "      <th>12</th>\n",
       "      <td>Twitter and Echofon spam</td>\n",
       "      <td>Filter Spam</td>\n",
       "      <td>(Twitter, and, Echofon, spam)</td>\n",
       "    </tr>\n",
       "    <tr>\n",
       "      <th>13</th>\n",
       "      <td>Totally Blocking Spam To Gmail Account</td>\n",
       "      <td>Filter Spam</td>\n",
       "      <td>(Totally, Blocking, Spam, To, Gmail, Account)</td>\n",
       "    </tr>\n",
       "    <tr>\n",
       "      <th>14</th>\n",
       "      <td>Discarding spam mail faster in Gmail</td>\n",
       "      <td>Filter Spam</td>\n",
       "      <td>(Discarding, spam, mail, faster, in, Gmail)</td>\n",
       "    </tr>\n",
       "    <tr>\n",
       "      <th>15</th>\n",
       "      <td>Stopping spam emails in Gmail by pattern</td>\n",
       "      <td>Filter Spam</td>\n",
       "      <td>(Stopping, spam, emails, in, Gmail, by, pattern)</td>\n",
       "    </tr>\n",
       "    <tr>\n",
       "      <th>16</th>\n",
       "      <td>Alternatives for Google Reader (with Android s...</td>\n",
       "      <td>Find Alternative</td>\n",
       "      <td>(Alternatives, for, Google, Reader, (, with, A...</td>\n",
       "    </tr>\n",
       "    <tr>\n",
       "      <th>17</th>\n",
       "      <td>Bugmenot (registration bypasser) alternative t...</td>\n",
       "      <td>Find Alternative</td>\n",
       "      <td>(Bugmenot, (, registration, bypasser, ), alter...</td>\n",
       "    </tr>\n",
       "    <tr>\n",
       "      <th>18</th>\n",
       "      <td>Alternatives to Twitter</td>\n",
       "      <td>Find Alternative</td>\n",
       "      <td>(Alternatives, to, Twitter)</td>\n",
       "    </tr>\n",
       "    <tr>\n",
       "      <th>19</th>\n",
       "      <td>Google search engine alternatives</td>\n",
       "      <td>Find Alternative</td>\n",
       "      <td>(Google, search, engine, alternatives)</td>\n",
       "    </tr>\n",
       "    <tr>\n",
       "      <th>20</th>\n",
       "      <td>Alternatives to Google Groups with more features?</td>\n",
       "      <td>Find Alternative</td>\n",
       "      <td>(Alternatives, to, Google, Groups, with, more,...</td>\n",
       "    </tr>\n",
       "    <tr>\n",
       "      <th>21</th>\n",
       "      <td>Are there any good Veoh or Youtube alternatives?</td>\n",
       "      <td>Find Alternative</td>\n",
       "      <td>(Are, there, any, good, Veoh, or, Youtube, alt...</td>\n",
       "    </tr>\n",
       "    <tr>\n",
       "      <th>22</th>\n",
       "      <td>Mint alternatives for Canada</td>\n",
       "      <td>Find Alternative</td>\n",
       "      <td>(Mint, alternatives, for, Canada)</td>\n",
       "    </tr>\n",
       "    <tr>\n",
       "      <th>23</th>\n",
       "      <td>How can I delete my Twitter account?</td>\n",
       "      <td>Delete Account</td>\n",
       "      <td>(How, can, I, delete, my, Twitter, account, ?)</td>\n",
       "    </tr>\n",
       "    <tr>\n",
       "      <th>24</th>\n",
       "      <td>How do I delete my LinkedIn account?</td>\n",
       "      <td>Delete Account</td>\n",
       "      <td>(How, do, I, delete, my, LinkedIn, account, ?)</td>\n",
       "    </tr>\n",
       "    <tr>\n",
       "      <th>25</th>\n",
       "      <td>How do I delete my Gmail account?</td>\n",
       "      <td>Delete Account</td>\n",
       "      <td>(How, do, I, delete, my, Gmail, account, ?)</td>\n",
       "    </tr>\n",
       "    <tr>\n",
       "      <th>26</th>\n",
       "      <td>How do I delete my Experts Exchange account?</td>\n",
       "      <td>Delete Account</td>\n",
       "      <td>(How, do, I, delete, my, Experts, Exchange, ac...</td>\n",
       "    </tr>\n",
       "    <tr>\n",
       "      <th>27</th>\n",
       "      <td>How do I delete my Ohloh profile?</td>\n",
       "      <td>Delete Account</td>\n",
       "      <td>(How, do, I, delete, my, Ohloh, profile, ?)</td>\n",
       "    </tr>\n",
       "    <tr>\n",
       "      <th>28</th>\n",
       "      <td>How can I permanently delete my MySpace account?</td>\n",
       "      <td>Delete Account</td>\n",
       "      <td>(How, can, I, permanently, delete, my, MySpace...</td>\n",
       "    </tr>\n",
       "    <tr>\n",
       "      <th>29</th>\n",
       "      <td>How to disable/delete a Harvest account?</td>\n",
       "      <td>Delete Account</td>\n",
       "      <td>(How, to, disable, /, delete, a, Harvest, acco...</td>\n",
       "    </tr>\n",
       "  </tbody>\n",
       "</table>\n",
       "</div>"
      ],
      "text/plain": [
       "                                                    0                 1  \\\n",
       "0                  How do I download a YouTube video?    Download Video   \n",
       "1           How do I change my password on TV Tropes?   Change Password   \n",
       "2   Why can't I change my password and login with ...   Change Password   \n",
       "3     Change subject line in new Gmail compose window              None   \n",
       "4                            Email Google Form daily?              None   \n",
       "5   How can I export track.scrobble data from last...       Export Data   \n",
       "6      How can I backup my wordpress.com hosted blog?       Export Data   \n",
       "7   How can I sync my Yahoo! Calendar with Google ...     Sync Accounts   \n",
       "8   Google Bookmarks and Chrome Bookmark Sync -- D...     Sync Accounts   \n",
       "9   How do I sync my RunKeeper workout schedule wi...     Sync Accounts   \n",
       "10  Does using Gmail's \"Never send it to Spam\" fil...       Filter Spam   \n",
       "11                Correctly Identifying Spam Messages       Filter Spam   \n",
       "12                           Twitter and Echofon spam       Filter Spam   \n",
       "13             Totally Blocking Spam To Gmail Account       Filter Spam   \n",
       "14               Discarding spam mail faster in Gmail       Filter Spam   \n",
       "15           Stopping spam emails in Gmail by pattern       Filter Spam   \n",
       "16  Alternatives for Google Reader (with Android s...  Find Alternative   \n",
       "17  Bugmenot (registration bypasser) alternative t...  Find Alternative   \n",
       "18                            Alternatives to Twitter  Find Alternative   \n",
       "19                  Google search engine alternatives  Find Alternative   \n",
       "20  Alternatives to Google Groups with more features?  Find Alternative   \n",
       "21   Are there any good Veoh or Youtube alternatives?  Find Alternative   \n",
       "22                       Mint alternatives for Canada  Find Alternative   \n",
       "23               How can I delete my Twitter account?    Delete Account   \n",
       "24               How do I delete my LinkedIn account?    Delete Account   \n",
       "25                  How do I delete my Gmail account?    Delete Account   \n",
       "26       How do I delete my Experts Exchange account?    Delete Account   \n",
       "27                  How do I delete my Ohloh profile?    Delete Account   \n",
       "28   How can I permanently delete my MySpace account?    Delete Account   \n",
       "29           How to disable/delete a Harvest account?    Delete Account   \n",
       "\n",
       "                                                    2  \n",
       "0        (How, do, I, download, a, YouTube, video, ?)  \n",
       "1   (How, do, I, change, my, password, on, TV, Tro...  \n",
       "2   (Why, ca, n't, I, change, my, password, and, l...  \n",
       "3   (Change, subject, line, in, new, Gmail, compos...  \n",
       "4                     (Email, Google, Form, daily, ?)  \n",
       "5   (How, can, I, export, track.scrobble, data, fr...  \n",
       "6   (How, can, I, backup, my, wordpress.com, hoste...  \n",
       "7   (How, can, I, sync, my, Yahoo, !, Calendar, wi...  \n",
       "8   (Google, Bookmarks, and, Chrome, Bookmark, Syn...  \n",
       "9   (How, do, I, sync, my, RunKeeper, workout, sch...  \n",
       "10  (Does, using, Gmail, 's, \", Never, send, it, t...  \n",
       "11           (Correctly, Identifying, Spam, Messages)  \n",
       "12                      (Twitter, and, Echofon, spam)  \n",
       "13      (Totally, Blocking, Spam, To, Gmail, Account)  \n",
       "14        (Discarding, spam, mail, faster, in, Gmail)  \n",
       "15   (Stopping, spam, emails, in, Gmail, by, pattern)  \n",
       "16  (Alternatives, for, Google, Reader, (, with, A...  \n",
       "17  (Bugmenot, (, registration, bypasser, ), alter...  \n",
       "18                        (Alternatives, to, Twitter)  \n",
       "19             (Google, search, engine, alternatives)  \n",
       "20  (Alternatives, to, Google, Groups, with, more,...  \n",
       "21  (Are, there, any, good, Veoh, or, Youtube, alt...  \n",
       "22                  (Mint, alternatives, for, Canada)  \n",
       "23     (How, can, I, delete, my, Twitter, account, ?)  \n",
       "24     (How, do, I, delete, my, LinkedIn, account, ?)  \n",
       "25        (How, do, I, delete, my, Gmail, account, ?)  \n",
       "26  (How, do, I, delete, my, Experts, Exchange, ac...  \n",
       "27        (How, do, I, delete, my, Ohloh, profile, ?)  \n",
       "28  (How, can, I, permanently, delete, my, MySpace...  \n",
       "29  (How, to, disable, /, delete, a, Harvest, acco...  "
      ]
     },
     "execution_count": 205,
     "metadata": {},
     "output_type": "execute_result"
    }
   ],
   "source": [
    "df_train"
   ]
  },
  {
   "cell_type": "code",
   "execution_count": 206,
   "metadata": {},
   "outputs": [],
   "source": [
    "classes=list(df_train[1].unique())\n",
    "def func(row):\n",
    "#     print(row[2])\n",
    "    allthings=row.apply(lambda y: y[2].vector)\n",
    "    return allthings.mean()\n",
    "df_meanvects = df_train.groupby(by=1).apply(lambda x: func(x[2]))"
   ]
  },
  {
   "cell_type": "code",
   "execution_count": 207,
   "metadata": {},
   "outputs": [
    {
     "name": "stdout",
     "output_type": "stream",
     "text": [
      "Change Password\n",
      "Delete Account\n",
      "Download Video\n",
      "Export Data\n",
      "Filter Spam\n",
      "Find Alternative\n",
      "None\n",
      "Sync Accounts\n"
     ]
    }
   ],
   "source": [
    "for ii, value in df_meanvects.items():\n",
    "    print(ii)"
   ]
  },
  {
   "cell_type": "code",
   "execution_count": 208,
   "metadata": {},
   "outputs": [],
   "source": [
    "def predict(row):\n",
    "    prediction=''\n",
    "    distance=0\n",
    "    for item, value in df_meanvects.items():\n",
    "        current_dist=cosine_similarity(value.reshape(1, -1), row[2].vector.reshape(1, -1))\n",
    "        if current_dist>distance:\n",
    "            prediction=item\n",
    "            distance=current_dist\n",
    "    return prediction\n",
    "df_test[3]=df_test.apply(lambda x: predict(x), axis=1)"
   ]
  },
  {
   "cell_type": "code",
   "execution_count": 215,
   "metadata": {},
   "outputs": [
    {
     "data": {
      "text/plain": [
       "0.2542372881355932"
      ]
     },
     "execution_count": 215,
     "metadata": {},
     "output_type": "execute_result"
    }
   ],
   "source": [
    "f1_score(df_test[1], df_test[3], average='micro')"
   ]
  },
  {
   "cell_type": "code",
   "execution_count": 217,
   "metadata": {},
   "outputs": [
    {
     "data": {
      "text/plain": [
       "0.7933333333333333"
      ]
     },
     "execution_count": 217,
     "metadata": {},
     "output_type": "execute_result"
    }
   ],
   "source": [
    "(.93+.84+.61)/3"
   ]
  }
 ],
 "metadata": {
  "kernelspec": {
   "display_name": "Python (py3env)",
   "language": "python",
   "name": "py3env"
  },
  "language_info": {
   "codemirror_mode": {
    "name": "ipython",
    "version": 3
   },
   "file_extension": ".py",
   "mimetype": "text/x-python",
   "name": "python",
   "nbconvert_exporter": "python",
   "pygments_lexer": "ipython3",
   "version": "3.6.6"
  }
 },
 "nbformat": 4,
 "nbformat_minor": 2
}
